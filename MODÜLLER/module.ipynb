{
 "cells": [
  {
   "cell_type": "code",
   "execution_count": 1,
   "id": "54b79021",
   "metadata": {},
   "outputs": [],
   "source": [
    "sayi=10\n",
    "sayilar=[10,20,30]\n",
    "ogrenci={\n",
    "    \"ad\":\"Ali\",\n",
    "    \"numara\":\"101\",\n",
    "    \"notlar\":[70,60,80]\n",
    "}\n",
    "def topla(a,b):\n",
    "    return a+b"
   ]
  },
  {
   "cell_type": "code",
   "execution_count": null,
   "id": "ce025dbc",
   "metadata": {},
   "outputs": [],
   "source": []
  }
 ],
 "metadata": {
  "kernelspec": {
   "display_name": "Python 3",
   "language": "python",
   "name": "python3"
  },
  "language_info": {
   "codemirror_mode": {
    "name": "ipython",
    "version": 3
   },
   "file_extension": ".py",
   "mimetype": "text/x-python",
   "name": "python",
   "nbconvert_exporter": "python",
   "pygments_lexer": "ipython3",
   "version": "3.8.8"
  }
 },
 "nbformat": 4,
 "nbformat_minor": 5
}
